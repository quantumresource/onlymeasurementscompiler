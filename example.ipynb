{
 "cells": [
  {
   "cell_type": "markdown",
   "metadata": {},
   "source": [
    "# Permutation engine examples"
   ]
  },
  {
   "cell_type": "markdown",
   "metadata": {},
   "source": [
    "This shows how to use the permutation engine to permute gates of a certain type towards the beginning or end of the circuit.\n",
    "It relies on the implementation of permutation rules between different gates. Currently, only rotational gates + CNOTs + Pauli + S + H + T and TimeEvolution gates are supported. Arbitrary controlled gates are not supported and must be decomposed first. We provide a handy engine list that translates any circuit into the supported gate set and performes the permutation."
   ]
  },
  {
   "cell_type": "code",
   "execution_count": 1,
   "metadata": {},
   "outputs": [],
   "source": [
    "import projectq\n",
    "import cmath\n",
    "from projectq.backends import CommandPrinter, Simulator\n",
    "from projectq.cengines import LocalOptimizer\n",
    "from projectq.ops import *\n",
    "\n",
    "\n",
    "from projqext.projectq.cengines import OpenSurgeryExporter\n",
    "from projqext.projectq.cengines import PermutePi4Front, BasisRotation\n",
    "from projqext.projectq.cengines import MultiqubitMeasurementCliffordEngine"
   ]
  },
  {
   "cell_type": "markdown",
   "metadata": {},
   "source": [
    "#### First generate the main engine and the order of all the engines in the compiler stack."
   ]
  },
  {
   "cell_type": "code",
   "execution_count": 2,
   "metadata": {},
   "outputs": [],
   "source": [
    "engines = [CommandPrinter(),projectq.cengines.TagRemover(),PermutePi4Front()]\n",
    "eng = projectq.MainEngine(backend=CommandPrinter(), engine_list=engines)"
   ]
  },
  {
   "cell_type": "markdown",
   "metadata": {},
   "source": [
    "Now lets generate a very simple circuit"
   ]
  },
  {
   "cell_type": "code",
   "execution_count": 3,
   "metadata": {
    "scrolled": true
   },
   "outputs": [
    {
     "name": "stdout",
     "output_type": "stream",
     "text": [
      "Allocate | Qureg[0]\nX | Qureg[0]\nY | Qureg[0]\nX | Qureg[0]\nT | Qureg[0]\nT | Qureg[0]\nAllocate | Qureg[0]\nRz(11.780972450962) | Qureg[0]\nRz(11.780972450962) | Qureg[0]\nRx(3.14159265359) | Qureg[0]\nRy(3.14159265359) | Qureg[0]\nRx(3.14159265359) | Qureg[0]\n"
     ]
    }
   ],
   "source": [
    "qubit = eng.allocate_qubit()\n",
    "X | qubit\n",
    "Y | qubit\n",
    "X | qubit\n",
    "T | qubit\n",
    "T | qubit\n",
    "eng.flush()"
   ]
  },
  {
   "cell_type": "markdown",
   "metadata": {},
   "source": [
    "Now lets take a look at a bit more complicated circuit that is still natively supported:"
   ]
  },
  {
   "cell_type": "code",
   "execution_count": 4,
   "metadata": {
    "collapsed": true
   },
   "outputs": [
    {
     "name": "stdout",
     "output_type": "stream",
     "text": [
      "Allocate | Qureg[0]\nAllocate | Qureg[1]\nAllocate | Qureg[2]\nAllocate | Qureg[3]\nT | Qureg[0]\nRy(0.785398163397) | Qureg[3]\nexp(0.3926990816985j * (1.0 Z0 Y1 Z2 Z3)) | Qureg[0, 3, 1-2]\nexp(0.3926990816985j * (1.0 Y0 X1)) | Qureg[2, 1]\nParity Measurement Y0 Z1 Z2 Y3  | Qureg[0-3]\nParity Measurement X0 X1  | Qureg[0-1]\nParity Measurement Z0  | Qureg[2]\nParity Measurement X0 X1  | Qureg[0, 3]\n"
     ]
    }
   ],
   "source": [
    "engines2 = [projectq.cengines.TagRemover(),PermutePi4Front(),MultiqubitMeasurementCliffordEngine(),CommandPrinter()]\n",
    "eng2 = projectq.MainEngine(backend=OpenSurgeryExporter(output=\"output_instructions.txt\"), engine_list=engines2, verbose=True)\n",
    "\n",
    "qubit1 = eng2.allocate_qubit()\n",
    "qubit2 = eng2.allocate_qubit()\n",
    "qubit3 = eng2.allocate_qubit()\n",
    "qubit4 = eng2.allocate_qubit()\n",
    "\n",
    "T | qubit1\n",
    "CNOT | (qubit3, qubit2)\n",
    "Rx(-cmath.pi/2) | qubit4\n",
    "\n",
    "CNOT | (qubit2, qubit1)\n",
    "Rx(cmath.pi/2) | qubit3\n",
    "Rz(cmath.pi/4) | qubit4\n",
    "\n",
    "CNOT | (qubit4, qubit1)\n",
    "\n",
    "Rz(cmath.pi/4) | qubit1\n",
    "Rz(cmath.pi/2) | qubit2\n",
    "Rz(cmath.pi/4) | qubit3\n",
    "Rz(cmath.pi/2) | qubit4\n",
    "\n",
    "Rx(-cmath.pi/2) | qubit1\n",
    "Rx(cmath.pi/2) | qubit2\n",
    "Rx(cmath.pi/2) | qubit3\n",
    "Rx(cmath.pi/2) | qubit4\n",
    "\n",
    "Measure | qubit1\n",
    "Measure | qubit2\n",
    "Measure | qubit3\n",
    "Measure | qubit4\n",
    "\n",
    "eng2.flush()"
   ]
  },
  {
   "cell_type": "markdown",
   "metadata": {},
   "source": [
    "This is actually the circuit shown in the paper: https://arxiv.org/abs/1808.02892\n",
    "\n",
    "The last engine is an exporter that creates a file of instructions. The instruction set is then used by the surface code layouting tool for lattice surgery. Let's take a look at its content."
   ]
  },
  {
   "cell_type": "code",
   "execution_count": 5,
   "metadata": {},
   "outputs": [
    {
     "name": "stdout",
     "output_type": "stream",
     "text": [
      "INIT 4\nNEED A\nMZZ A 0\nMX A\nS ANCILLA\nMXX ANCILLA 0\nH 3\nS 3\nNEED A\nMZZ A 3\nMX A\nS ANCILLA\nMXX ANCILLA 3\nS 3\nH 3\nH 3\nS 3\nNEED A\nMZZ A 0 3 1 2\nMX A\nS ANCILLA\nMXX ANCILLA 0 3 1 2\nS 3\nH 3\nH 2\nS 2\nH 1\nNEED A\nMZZ A 2 1\nMX A\nS ANCILLA\nMXX ANCILLA 2 1\nS 2\nH 2\nH 1\nH 0\nS 0\nH 3\nS 3\nMZZ 0 1 2 3\nH 0\nH 1\nMZZ 0 1\nMZ 2\nH 0\nH 3\nMZZ 0 3\n"
     ]
    }
   ],
   "source": [
    "with open(\"output_instructions.txt\") as fin:\n",
    "    for line in fin:\n",
    "        line = line.strip()\n",
    "        print(line)"
   ]
  },
  {
   "cell_type": "markdown",
   "metadata": {},
   "source": [
    "This is still a naive exporter and the output can be improved. There is a Basis transformation engine for the rotations an ParityMeasurements, which work together with the Local Optimizer. This will clean up some of the Hadamards and S gates.\n"
   ]
  },
  {
   "cell_type": "code",
   "execution_count": 6,
   "metadata": {},
   "outputs": [],
   "source": [
    "engines3 = [projectq.cengines.TagRemover(),PermutePi4Front(),MultiqubitMeasurementCliffordEngine(),BasisRotation(), LocalOptimizer()]\n",
    "eng3 = projectq.MainEngine(backend=OpenSurgeryExporter(output=\"output_better_instructions.txt\"), engine_list=engines3, verbose=True)\n",
    "\n",
    "qubit1 = eng3.allocate_qubit()\n",
    "qubit2 = eng3.allocate_qubit()\n",
    "qubit3 = eng3.allocate_qubit()\n",
    "qubit4 = eng3.allocate_qubit()\n",
    "\n",
    "T | qubit1\n",
    "CNOT | (qubit3, qubit2)\n",
    "Rx(-cmath.pi/2) | qubit4\n",
    "\n",
    "CNOT | (qubit2, qubit1)\n",
    "Rx(cmath.pi/2) | qubit3\n",
    "Rz(cmath.pi/4) | qubit4\n",
    "\n",
    "CNOT | (qubit4, qubit1)\n",
    "\n",
    "Rz(cmath.pi/4) | qubit1\n",
    "Rz(cmath.pi/2) | qubit2\n",
    "Rz(cmath.pi/4) | qubit3\n",
    "Rz(cmath.pi/2) | qubit4\n",
    "\n",
    "Rx(-cmath.pi/2) | qubit1\n",
    "Rx(cmath.pi/2) | qubit2\n",
    "Rx(cmath.pi/2) | qubit3\n",
    "Rx(cmath.pi/2) | qubit4\n",
    "\n",
    "Measure | qubit1\n",
    "Measure | qubit2\n",
    "Measure | qubit3\n",
    "Measure | qubit4\n",
    "\n",
    "eng3.flush()"
   ]
  },
  {
   "cell_type": "code",
   "execution_count": 7,
   "metadata": {},
   "outputs": [
    {
     "name": "stdout",
     "output_type": "stream",
     "text": [
      "INIT 4\nNEED A\nMZZ A 0\nMX A\nS ANCILLA\nMXX ANCILLA 0\nH 3\nS 3\nNEED A\nMZZ A 3\nMX A\nS ANCILLA\nMXX ANCILLA 3\nS 3\nH 3\nH 3\nS 3\nNEED A\nMZZ A 0 3 1 2\nMX A\nS ANCILLA\nMXX ANCILLA 0 3 1 2\nS 3\nH 3\nH 2\nS 2\nH 1\nNEED A\nMZZ A 2 1\nMX A\nS ANCILLA\nMXX ANCILLA 2 1\nS 2\nH 2\nH 1\nH 0\nS 0\nH 3\nS 3\nMZZ 0 1 2 3\nH 0\nH 1\nMZZ 0 1\nMZ 2\nH 0\nH 3\nMZZ 0 3\n"
     ]
    }
   ],
   "source": [
    "# the output file now looks like:\n",
    "with open(\"output_instructions.txt\") as fin:\n",
    "    for line in fin:\n",
    "        line = line.strip()\n",
    "        print(line)"
   ]
  },
  {
   "cell_type": "markdown",
   "metadata": {},
   "source": [
    "Since The engine lists tend to get large we added convenience functions that generate an engine-list useful for the compilation to Lattice Surgery. In this engine-list arbitrary gates are also supported as long as there are decompositon rules written to map to Clifford+T"
   ]
  },
  {
   "cell_type": "markdown",
   "metadata": {},
   "source": [
    "\n",
    "# On to more general circuits...\n",
    "The provided engine_list is a whole stack of compile engines that should be able to translate an arbitrary circuit into the format needed by arxiv:1808.02892 It first decomposes the arbitrary circuit into Clifford+T and then performs the circuit manipulations that were used before."
   ]
  },
  {
   "cell_type": "code",
   "execution_count": 8,
   "metadata": {},
   "outputs": [
    {
     "name": "stdout",
     "output_type": "stream",
     "text": [
      "[<projectq.cengines._replacer._replacer.AutoReplacer object at 0x7fe5dd5d9518>, <projectq.cengines._tagremover.TagRemover object at 0x7fe5dd6062e8>, <projectq.cengines._replacer._replacer.InstructionFilter object at 0x7fe5dd606320>, <projectq.cengines._optimize.LocalOptimizer object at 0x7fe5dd606278>, <projectq.cengines._replacer._replacer.AutoReplacer object at 0x7fe5dd6063c8>, <projectq.cengines._tagremover.TagRemover object at 0x7fe5dd606400>, <projectq.cengines._replacer._replacer.InstructionFilter object at 0x7fe5dd606470>, <projectq.cengines._optimize.LocalOptimizer object at 0x7fe5dd606438>, <projectq.cengines._replacer._replacer.AutoReplacer object at 0x7fe5dd6064a8>, <projectq.cengines._tagremover.TagRemover object at 0x7fe5dd6064e0>, <projectq.cengines._replacer._replacer.InstructionFilter object at 0x7fe5dd606550>, <projectq.cengines._optimize.LocalOptimizer object at 0x7fe5dd606518>, <projqext.projectq.cengines._permutation_engine._permute_pi4_front.PermutePi4Front object at 0x7fe5dd606588>, <projqext.projectq.cengines._clifford_simulator_engine._main_clifford_engine.MultiqubitMeasurementCliffordEngine object at 0x7fe5dd6065f8>, <projqext.projectq.cengines._basisrotation.BasisRotation object at 0x7fe5dd6066a0>]\n"
     ]
    }
   ],
   "source": [
    "from projqext.projectq.setups.surface_codes import lattice_surgery\n",
    "# this first performs a decomposition in clifford + T and then uses the decomposition above\n",
    "# engines4 = lattice_surgery.get_engine_list() # first transforms any circuit to clifford+T then to multi-qubit rotations\n",
    "engines4 = lattice_surgery.SimpleExporterEngineList() # This is the same as before but only using multi-qubit Z rotations\n",
    "print(engines4)"
   ]
  },
  {
   "cell_type": "code",
   "execution_count": 9,
   "metadata": {},
   "outputs": [],
   "source": [
    "eng4 = projectq.MainEngine(backend=OpenSurgeryExporter(\"output_final_example.txt\"), engine_list=engines4, verbose=True)\n",
    "\n",
    "\n",
    "# now add a general circuit any gate can be used as long as Decomposition rules to decompose it into Clifford+T exist\n",
    "\n",
    "# TODO: need decomposition of rotation gates into Clifford + T"
   ]
  },
  {
   "cell_type": "code",
   "execution_count": null,
   "metadata": {},
   "outputs": [],
   "source": []
  }
 ],
 "metadata": {
  "kernelspec": {
   "display_name": "Python 3",
   "language": "python",
   "name": "python3"
  },
  "language_info": {
   "codemirror_mode": {
    "name": "ipython",
    "version": 3
   },
   "file_extension": ".py",
   "mimetype": "text/x-python",
   "name": "python",
   "nbconvert_exporter": "python",
   "pygments_lexer": "ipython3",
   "version": "3.6.6"
  }
 },
 "nbformat": 4,
 "nbformat_minor": 2
}
